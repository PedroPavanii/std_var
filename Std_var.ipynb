{
  "nbformat": 4,
  "nbformat_minor": 0,
  "metadata": {
    "colab": {
      "provenance": []
    },
    "kernelspec": {
      "name": "python3",
      "display_name": "Python 3"
    },
    "language_info": {
      "name": "python"
    }
  },
  "cells": [
    {
      "cell_type": "code",
      "execution_count": null,
      "metadata": {
        "colab": {
          "base_uri": "https://localhost:8080/"
        },
        "id": "qmwUoMRJ7Ajm",
        "outputId": "ff1bb584-aaf6-4ba7-db0d-6b8df3699748"
      },
      "outputs": [
        {
          "output_type": "execute_result",
          "data": {
            "text/plain": [
              "29"
            ]
          },
          "metadata": {},
          "execution_count": 1
        }
      ],
      "source": [
        "points = [-4, 17, 25, 19, 6, 11, 7]\n",
        "\n",
        "#1.1 What is the range for the data set?\n",
        "\n",
        "import statistics as stats\n",
        "\n",
        "points_range = max(points) - min(points)\n",
        "\n",
        "points_range"
      ]
    },
    {
      "cell_type": "code",
      "source": [
        "#1.2 You are given the following dataset:\n",
        "\n",
        "data1 = [2,4,7,1,6,8]\n",
        "#How does the standard deviation change when 6 is replaced with 12? Does it increase, or decrease, or it remains the same?\n",
        "\n",
        "import statistics as stats\n",
        "\n",
        "data_std = stats.stdev(data1)\n",
        "data_std\n",
        "\n",
        "\n",
        "data2 = [2,4,7,1,12,8]\n",
        "\n",
        "data_std2 = stats.stdev(data2)\n",
        "data_std2\n",
        "\n",
        "#increase\n"
      ],
      "metadata": {
        "colab": {
          "base_uri": "https://localhost:8080/"
        },
        "id": "HwiUvUgb71F0",
        "outputId": "94a6905b-d300-4771-936d-07e9511d8cd8"
      },
      "execution_count": null,
      "outputs": [
        {
          "output_type": "execute_result",
          "data": {
            "text/plain": [
              "4.131182235954578"
            ]
          },
          "metadata": {},
          "execution_count": 4
        }
      ]
    },
    {
      "cell_type": "code",
      "source": [
        "#1.3 Is is possible to have a dataset with 0 standard deviation or variance? If yes, can you think of any dataset with 6 data points that have 0 standard deviation?\n",
        "#yes\n",
        "\n",
        "data = [6,6,6,6,6,6]\n",
        "import statistics as stats\n",
        "data_std = stats.stdev(data)\n",
        "data_std\n"
      ],
      "metadata": {
        "colab": {
          "base_uri": "https://localhost:8080/"
        },
        "id": "wyJErvwyc8dV",
        "outputId": "01bbe2f7-c8d0-441f-a5c6-48db0f893853"
      },
      "execution_count": null,
      "outputs": [
        {
          "output_type": "execute_result",
          "data": {
            "text/plain": [
              "0.0"
            ]
          },
          "metadata": {},
          "execution_count": 5
        }
      ]
    },
    {
      "cell_type": "code",
      "source": [
        "#1.4 We know that standard deviation is a measure of spread in the dataset. What is meant by deviation here? What is the formula for calculating deviation? Can deviation be negative?\n",
        "#Step 1: Calculate the mean. Step 2: Calculate the square of the distance between each point and the mean. Step 3: Add the values from Step 2. Step 4: Divide by the number of points.\n",
        "#Yes\n"
      ],
      "metadata": {
        "colab": {
          "base_uri": "https://localhost:8080/"
        },
        "id": "ilZjROKqdbUb",
        "outputId": "663c7876-01b7-4ce5-dfda-195a0edc9afa"
      },
      "execution_count": null,
      "outputs": [
        {
          "output_type": "stream",
          "name": "stdout",
          "text": [
            "Object `negative` not found.\n"
          ]
        }
      ]
    },
    {
      "cell_type": "code",
      "source": [
        "#1.5 Given the dataset in the list:\n",
        "\n",
        "#What is the deviation from the mean for each of the points in the list? Write a for loop and print each of the values.\n",
        "\n",
        "data = [23, 12, 34, 65, 34, 81]\n",
        "\n",
        "import statistics as stats\n",
        "\n",
        "for item in data:\n",
        "    print('Deviation of item: ', item,'is: ', item - stats.mean(data) )\n",
        "\n",
        "\n",
        "\n"
      ],
      "metadata": {
        "id": "gwq8RdbHeY2K",
        "colab": {
          "base_uri": "https://localhost:8080/"
        },
        "outputId": "4b1f52e4-cea6-4cf0-f471-b4910354f6e8"
      },
      "execution_count": 2,
      "outputs": [
        {
          "output_type": "stream",
          "name": "stdout",
          "text": [
            "Deviation of item:  23 is:  -18.5\n",
            "Deviation of item:  12 is:  -29.5\n",
            "Deviation of item:  34 is:  -7.5\n",
            "Deviation of item:  65 is:  23.5\n",
            "Deviation of item:  34 is:  -7.5\n",
            "Deviation of item:  81 is:  39.5\n"
          ]
        }
      ]
    }
  ]
}